{
 "cells": [
  {
   "cell_type": "code",
   "execution_count": null,
   "source": [
    "import pyspark"
   ],
   "outputs": [],
   "metadata": {}
  },
  {
   "cell_type": "code",
   "execution_count": null,
   "source": [
    "mesoregions = (\n",
    "    spark\n",
    "    .read\n",
    "    .format(\"json\")\n",
    "    .option(\"multiline\", True)\n",
    "    .load(\"s3://imb-bronze-layer/ibge/mesoregions/\")\n",
    ")"
   ],
   "outputs": [],
   "metadata": {}
  },
  {
   "cell_type": "code",
   "execution_count": null,
   "source": [
    "mesoregions.printSchema()"
   ],
   "outputs": [],
   "metadata": {}
  },
  {
   "cell_type": "code",
   "execution_count": null,
   "source": [
    "(\n",
    "    mesoregions\n",
    "    .write\n",
    "    .format(\"parquet\")\n",
    "    .partition(\"\")\n",
    "    .save(\"s3://imb-bronze-layer/ibge/mesoregions/\")\n",
    ")"
   ],
   "outputs": [],
   "metadata": {}
  }
 ],
 "metadata": {
  "orig_nbformat": 4,
  "language_info": {
   "name": "python"
  }
 },
 "nbformat": 4,
 "nbformat_minor": 2
}