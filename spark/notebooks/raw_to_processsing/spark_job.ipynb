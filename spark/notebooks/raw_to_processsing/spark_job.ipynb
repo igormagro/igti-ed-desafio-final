{
 "cells": [
  {
   "cell_type": "code",
   "execution_count": 1,
   "id": "12a62d2f-5205-496c-b9ec-aa94a83c597d",
   "metadata": {},
   "outputs": [],
   "source": [
    "from pyspark.sql import SparkSession\n",
    "from pyspark.sql.functions import *\n",
    "import os"
   ]
  },
  {
   "cell_type": "code",
   "execution_count": 4,
   "id": "b52c612d-c722-40d2-afa8-8106fac9890a",
   "metadata": {},
   "outputs": [],
   "source": [
    "spark = (\n",
    "    SparkSession.builder\n",
    "    .config(\"spark.serializer\", \"org.apache.spark.serializer.KryoSerializer\")\n",
    "    .config(\"spark.executor.heartbeatInterval \", \"36000\")\n",
    "    .config(\"spark.sql.broadcastTimeout\", \"360000\")\n",
    "    .config(\"spark.hadoop.fs.s3a.access.key\", os.getenv(\"AWS_ACCESS_KEY_ID\"))\n",
    "    .config(\"spark.hadoop.fs.s3a.secret.key\", os.getenv(\"AWS_SECRET_ACCESS_KEY\"))\n",
    "    .config(\"spark.hadoop.fs.s3a.fast.upload\", True)\n",
    "    .config(\"spark.hadoop.fs.s3a.impl\", \"org.apache.hadoop.fs.s3a.S3AFileSystem\")\n",
    "    .config('spark.jars.packages', 'org.apache.hadoop:hadoop-aws:3.1.2')\n",
    "    .config('spark.sql.repl.eagerEval.enabled', True)\n",
    "    .getOrCreate()\n",
    ")\n",
    "spark.conf.set(\"spark.sql.legacy.parquet.int96RebaseModeInWrite\",\"LEGACY\")\n",
    "spark.conf.set(\"spark.sql.repl.eagerEval.enabled\",True) #ele mostra o dataframe só de escrever seu nome\n",
    "spark.conf.set(\"spark.sql.repl.eagerEval.maxNumRows\",100) #numero de linhas a mostrar quando pedir para aparecer o dataframe"
   ]
  },
  {
   "cell_type": "markdown",
   "id": "6c1f8d8b-80b8-4a1f-9ab1-20fadbec971f",
   "metadata": {
    "tags": []
   },
   "source": [
    "# IBGE"
   ]
  },
  {
   "cell_type": "markdown",
   "id": "386cf8e5-ca54-4e97-89c5-a50bce56ec63",
   "metadata": {},
   "source": [
    "## Regiões"
   ]
  },
  {
   "cell_type": "code",
   "execution_count": 5,
   "id": "167a61ef-4ae6-4c31-b6fa-a454cb2d6ce8",
   "metadata": {},
   "outputs": [
    {
     "name": "stderr",
     "output_type": "stream",
     "text": [
      "21/10/08 23:22:48 WARN MetricsConfig: Cannot locate configuration: tried hadoop-metrics2-s3a-file-system.properties,hadoop-metrics2.properties\n",
      "                                                                                \r"
     ]
    }
   ],
   "source": [
    "# Ler arquivo da zona raw\n",
    "regions = (\n",
    "    spark\n",
    "    .read\n",
    "    .option(\"inferSchema\", True)\n",
    "    .option(\"multiline\", True)\n",
    "    .format(\"json\")\n",
    "    .load(\"s3a://raw-zone/ibge/regions/\")\n",
    ")"
   ]
  },
  {
   "cell_type": "code",
   "execution_count": 7,
   "id": "f5abb887-c76f-4b49-afb4-c4ae62544c1d",
   "metadata": {},
   "outputs": [
    {
     "name": "stderr",
     "output_type": "stream",
     "text": [
      "                                                                                \r"
     ]
    }
   ],
   "source": [
    "# Salva como parquet na zona de processamento\n",
    "(\n",
    "    regions\n",
    "    .write\n",
    "    .mode(\"overwrite\")\n",
    "    .format(\"parquet\")\n",
    "    .save(\"s3a://processing-zone/ibge/regions/\")\n",
    ")"
   ]
  },
  {
   "cell_type": "markdown",
   "id": "faab93d8-5327-49eb-83b2-30817cce8a0a",
   "metadata": {
    "tags": []
   },
   "source": [
    "## Mesorregiões"
   ]
  },
  {
   "cell_type": "code",
   "execution_count": 8,
   "id": "d7d40221-bbbb-4e57-89b8-443328732cb0",
   "metadata": {},
   "outputs": [
    {
     "name": "stderr",
     "output_type": "stream",
     "text": [
      "                                                                                \r"
     ]
    }
   ],
   "source": [
    "# Ler arquivo da zona raw\n",
    "mesoregions = (\n",
    "    spark\n",
    "    .read\n",
    "    .option(\"inferSchema\", True)\n",
    "    .option(\"multiline\", True)\n",
    "    .format(\"json\")\n",
    "    .load(\"s3a://raw-zone/ibge/mesoregions/\")\n",
    ")"
   ]
  },
  {
   "cell_type": "code",
   "execution_count": 10,
   "id": "b7f3493b-fc12-4159-803a-c2d8b72e462d",
   "metadata": {},
   "outputs": [],
   "source": [
    "# Desaninhando campos\n",
    "mesoregions_norm = mesoregions.select(\n",
    "    \"id\",\n",
    "    \"nome\",\n",
    "    col(\"UF.id\").alias(\"UFId\"),\n",
    "    col(\"UF.nome\").alias(\"UFName\"),\n",
    "    col(\"UF.sigla\").alias(\"UFSigla\"),\n",
    "    col(\"UF.regiao.id\").alias(\"UFRegiaoId\"),\n",
    "    col(\"UF.regiao.nome\").alias(\"UFRegiaoNome\"),\n",
    "    col(\"UF.regiao.sigla\").alias(\"UFRegiaoSigla\")\n",
    ")"
   ]
  },
  {
   "cell_type": "code",
   "execution_count": 12,
   "id": "381d853f-9972-42f7-abdc-df671b4201fd",
   "metadata": {},
   "outputs": [
    {
     "name": "stderr",
     "output_type": "stream",
     "text": [
      "                                                                                \r"
     ]
    }
   ],
   "source": [
    "# Salva como parquet na zona de processamento\n",
    "(\n",
    "    mesoregions_norm\n",
    "    .write\n",
    "    .mode(\"overwrite\")\n",
    "    .format(\"parquet\")\n",
    "    .save(\"s3a://processing-zone/ibge/mesoregions/\")\n",
    ")"
   ]
  },
  {
   "cell_type": "markdown",
   "id": "73ac997c-883d-4a6d-a0d6-97782e1ce33e",
   "metadata": {
    "tags": []
   },
   "source": [
    "## Microrregiões"
   ]
  },
  {
   "cell_type": "code",
   "execution_count": 13,
   "id": "e0c2b8ec-9149-46c8-9499-80aa7b75cfe4",
   "metadata": {},
   "outputs": [
    {
     "name": "stderr",
     "output_type": "stream",
     "text": [
      "                                                                                \r"
     ]
    }
   ],
   "source": [
    "# Ler arquivo da zona raw\n",
    "microregions = (\n",
    "    spark\n",
    "    .read\n",
    "    .option(\"inferSchema\", True)\n",
    "    .option(\"multiline\", True)\n",
    "    .format(\"json\")\n",
    "    .load(\"s3a://raw-zone/ibge/microregions/\")\n",
    ")"
   ]
  },
  {
   "cell_type": "code",
   "execution_count": 16,
   "id": "a1704688-c7fd-4fc6-a484-999d5553feee",
   "metadata": {},
   "outputs": [],
   "source": [
    "microregions_norm = microregions.select(\n",
    "    \"id\",\n",
    "    \"nome\",\n",
    "    col(\"mesorregiao.id\").alias(\"mesorregiaoId\"),\n",
    "    col(\"mesorregiao.nome\").alias(\"mesorregiaoNome\"),\n",
    "    col(\"mesorregiao.UF.id\").alias(\"mesorregiaoUFId\"),\n",
    "    col(\"mesorregiao.UF.Nome\").alias(\"mesorregiaoUFNome\"),\n",
    "    col(\"mesorregiao.UF.sigla\").alias(\"mesorregiaoUFSigla\"),\n",
    "    col(\"mesorregiao.UF.regiao.id\").alias(\"mesorregiaoUFRegiaoId\"),\n",
    "    col(\"mesorregiao.UF.regiao.nome\").alias(\"mesorregiaoUFRegiaoNome\"),\n",
    "    col(\"mesorregiao.UF.regiao.sigla\").alias(\"mesorregiaoUFRegiaoSigla\"),\n",
    "    \n",
    ")"
   ]
  },
  {
   "cell_type": "code",
   "execution_count": 18,
   "id": "23be2f81-2332-4378-804f-c5a92ba35ab5",
   "metadata": {},
   "outputs": [
    {
     "name": "stderr",
     "output_type": "stream",
     "text": [
      "                                                                                \r"
     ]
    }
   ],
   "source": [
    "# Salva como parquet na zona de processamento\n",
    "(\n",
    "    microregions_norm \n",
    "    .write\n",
    "    .mode(\"overwrite\")\n",
    "    .format(\"parquet\")\n",
    "    .save(\"s3a://processing-zone/ibge/microregions/\")\n",
    ")"
   ]
  },
  {
   "cell_type": "markdown",
   "id": "4d6c5e53-6e8f-4e9c-8d46-4570b0bd4b96",
   "metadata": {},
   "source": [
    "# PNADC"
   ]
  },
  {
   "cell_type": "code",
   "execution_count": 19,
   "id": "141c0efe-2d47-48c4-8c40-2b24de325dc3",
   "metadata": {},
   "outputs": [
    {
     "name": "stderr",
     "output_type": "stream",
     "text": [
      "                                                                                \r"
     ]
    }
   ],
   "source": [
    "# Ler arquivo da zona raw\n",
    "pnadc = (\n",
    "    spark\n",
    "    .read\n",
    "    .option(\"inferSchema\", True)\n",
    "    .option(\"multiline\", True)\n",
    "    .format(\"json\")\n",
    "    .load(\"s3a://raw-zone/pnadc/\")\n",
    ")\n"
   ]
  },
  {
   "cell_type": "code",
   "execution_count": 22,
   "id": "01ca3ddc-f062-46d1-90ba-bb5e272623a2",
   "metadata": {},
   "outputs": [
    {
     "name": "stderr",
     "output_type": "stream",
     "text": [
      "                                                                                \r"
     ]
    }
   ],
   "source": [
    "# Salva como parquet na zona de processamento\n",
    "(\n",
    "    pnadc \n",
    "    .write\n",
    "    .mode(\"overwrite\")\n",
    "    .format(\"parquet\")\n",
    "    .save(\"s3a://processing-zone/pnadc/\")\n",
    ")"
   ]
  }
 ],
 "metadata": {
  "kernelspec": {
   "display_name": "Python 3 (ipykernel)",
   "language": "python",
   "name": "python3"
  },
  "language_info": {
   "codemirror_mode": {
    "name": "ipython",
    "version": 3
   },
   "file_extension": ".py",
   "mimetype": "text/x-python",
   "name": "python",
   "nbconvert_exporter": "python",
   "pygments_lexer": "ipython3",
   "version": "3.9.6"
  }
 },
 "nbformat": 4,
 "nbformat_minor": 5
}
