{
 "cells": [
  {
   "cell_type": "code",
   "execution_count": null,
   "source": [
    "import pyspark"
   ],
   "outputs": [],
   "metadata": {}
  },
  {
   "cell_type": "code",
   "execution_count": null,
   "source": [
    "regions = (\n",
    "    spark\n",
    "    .read\n",
    "    .format(\"json\")\n",
    "    .option(\"multiline\", True)\n",
    "    .load(\"s3://imb-bronze-layer/ibge/regions/\")\n",
    ")"
   ],
   "outputs": [],
   "metadata": {}
  },
  {
   "cell_type": "code",
   "execution_count": null,
   "source": [
    "regions.printSchema()"
   ],
   "outputs": [],
   "metadata": {}
  },
  {
   "cell_type": "code",
   "execution_count": null,
   "source": [
    "(\n",
    "    regions\n",
    "    .write\n",
    "    .format(\"parquet\")\n",
    "    .save(\"s3://imb-silver-layer/ibge/regions/\")\n",
    ")"
   ],
   "outputs": [],
   "metadata": {}
  }
 ],
 "metadata": {
  "orig_nbformat": 4,
  "language_info": {
   "name": "python"
  }
 },
 "nbformat": 4,
 "nbformat_minor": 2
}